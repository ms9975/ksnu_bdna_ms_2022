{
  "nbformat": 4,
  "nbformat_minor": 0,
  "metadata": {
    "colab": {
      "name": "김민성2강3강.ipynb",
      "provenance": [],
      "collapsed_sections": [],
      "authorship_tag": "ABX9TyPVWwFIV+dBHSKMtFbythvc",
      "include_colab_link": true
    },
    "kernelspec": {
      "name": "python3",
      "display_name": "Python 3"
    },
    "language_info": {
      "name": "python"
    }
  },
  "cells": [
    {
      "cell_type": "markdown",
      "metadata": {
        "id": "view-in-github",
        "colab_type": "text"
      },
      "source": [
        "<a href=\"https://colab.research.google.com/github/ms9975/ksnu_bdna_ms_2022/blob/main/%EA%B9%80%EB%AF%BC%EC%84%B12%EA%B0%953%EA%B0%95.ipynb\" target=\"_parent\"><img src=\"https://colab.research.google.com/assets/colab-badge.svg\" alt=\"Open In Colab\"/></a>"
      ]
    },
    {
      "cell_type": "code",
      "execution_count": 1,
      "metadata": {
        "id": "MCRIN8MYV-He"
      },
      "outputs": [],
      "source": [
        "import numpy as np"
      ]
    },
    {
      "cell_type": "code",
      "source": [
        "np.__version__"
      ],
      "metadata": {
        "colab": {
          "base_uri": "https://localhost:8080/",
          "height": 35
        },
        "id": "HWYZlz6lajHO",
        "outputId": "9213d55a-98f3-4227-ae06-9a2f1120c9a7"
      },
      "execution_count": null,
      "outputs": [
        {
          "output_type": "execute_result",
          "data": {
            "text/plain": [
              "'1.21.5'"
            ],
            "application/vnd.google.colaboratory.intrinsic+json": {
              "type": "string"
            }
          },
          "metadata": {},
          "execution_count": 5
        }
      ]
    },
    {
      "cell_type": "code",
      "source": [
        "a=np.array((1,2,3),dtype=float)\n",
        "print(a)"
      ],
      "metadata": {
        "colab": {
          "base_uri": "https://localhost:8080/"
        },
        "id": "Xu0_Rqg5aoJU",
        "outputId": "5ccdbc22-28ca-4078-b3b0-45eb94c782fe"
      },
      "execution_count": null,
      "outputs": [
        {
          "output_type": "stream",
          "name": "stdout",
          "text": [
            "[1. 2. 3.]\n"
          ]
        }
      ]
    },
    {
      "cell_type": "code",
      "source": [
        "a=np.array([(1,2,3),(4,5,6)],dtype=float)\n",
        "print(a)"
      ],
      "metadata": {
        "colab": {
          "base_uri": "https://localhost:8080/"
        },
        "id": "gebsVqc4a0N8",
        "outputId": "fa5cb9a2-6938-482d-c807-1e747faf3457"
      },
      "execution_count": null,
      "outputs": [
        {
          "output_type": "stream",
          "name": "stdout",
          "text": [
            "[[1. 2. 3.]\n",
            " [4. 5. 6.]]\n"
          ]
        }
      ]
    },
    {
      "cell_type": "code",
      "source": [
        "a=np.array([[[1,2,3],[4,5,6]],[[3,2,1],[4,5,6]]],dtype=float)\n",
        "print(a)"
      ],
      "metadata": {
        "colab": {
          "base_uri": "https://localhost:8080/"
        },
        "id": "vUEqO85KpBuX",
        "outputId": "a4a42b72-3b81-4397-82b4-8f2d9e303b6d"
      },
      "execution_count": null,
      "outputs": [
        {
          "output_type": "stream",
          "name": "stdout",
          "text": [
            "[[[1. 2. 3.]\n",
            "  [4. 5. 6.]]\n",
            "\n",
            " [[3. 2. 1.]\n",
            "  [4. 5. 6.]]]\n"
          ]
        }
      ]
    },
    {
      "cell_type": "code",
      "source": [
        "zeros(shape,dtype=float,order='C'):"
      ],
      "metadata": {
        "colab": {
          "base_uri": "https://localhost:8080/",
          "height": 137
        },
        "id": "BSk8wRWXpzZv",
        "outputId": "3e75fae6-7b19-43c9-8d85-724c93cdca44"
      },
      "execution_count": null,
      "outputs": [
        {
          "output_type": "error",
          "ename": "SyntaxError",
          "evalue": "ignored",
          "traceback": [
            "\u001b[0;36m  File \u001b[0;32m\"<ipython-input-9-2262dafa7c9a>\"\u001b[0;36m, line \u001b[0;32m1\u001b[0m\n\u001b[0;31m    zeros(shape,dtype=float,order='C'):\u001b[0m\n\u001b[0m                                       ^\u001b[0m\n\u001b[0;31mSyntaxError\u001b[0m\u001b[0;31m:\u001b[0m invalid syntax\n"
          ]
        }
      ]
    },
    {
      "cell_type": "code",
      "source": [
        "a=np.zeros((3))\n",
        "print(a)"
      ],
      "metadata": {
        "colab": {
          "base_uri": "https://localhost:8080/"
        },
        "id": "9YWUbJRXy99v",
        "outputId": "60197b58-7920-4523-e2ef-c32e3132fc16"
      },
      "execution_count": null,
      "outputs": [
        {
          "output_type": "stream",
          "name": "stdout",
          "text": [
            "[0. 0. 0.]\n"
          ]
        }
      ]
    },
    {
      "cell_type": "code",
      "source": [
        "a=np.zeros((3,4))\n",
        "print(a)"
      ],
      "metadata": {
        "colab": {
          "base_uri": "https://localhost:8080/"
        },
        "id": "nV1ep8ynzSZZ",
        "outputId": "ebe6338d-1583-4ce2-9f8b-362f0049fa03"
      },
      "execution_count": null,
      "outputs": [
        {
          "output_type": "stream",
          "name": "stdout",
          "text": [
            "[[0. 0. 0. 0.]\n",
            " [0. 0. 0. 0.]\n",
            " [0. 0. 0. 0.]]\n"
          ]
        }
      ]
    },
    {
      "cell_type": "code",
      "source": [
        "a=np.zeros((2,3,4))\n",
        "print(a)"
      ],
      "metadata": {
        "colab": {
          "base_uri": "https://localhost:8080/"
        },
        "id": "ZRh85lR0zY2A",
        "outputId": "b78d0873-12f0-4a20-caee-a98f981bdbe7"
      },
      "execution_count": null,
      "outputs": [
        {
          "output_type": "stream",
          "name": "stdout",
          "text": [
            "[[[0. 0. 0. 0.]\n",
            "  [0. 0. 0. 0.]\n",
            "  [0. 0. 0. 0.]]\n",
            "\n",
            " [[0. 0. 0. 0.]\n",
            "  [0. 0. 0. 0.]\n",
            "  [0. 0. 0. 0.]]]\n"
          ]
        }
      ]
    },
    {
      "cell_type": "code",
      "source": [
        "np.full(shape,fill_value,dtype=None,order='C')"
      ],
      "metadata": {
        "colab": {
          "base_uri": "https://localhost:8080/",
          "height": 174
        },
        "id": "yCdt1cj7zeHQ",
        "outputId": "ea5644cf-45fb-40e4-ff39-c54b22bbdee3"
      },
      "execution_count": null,
      "outputs": [
        {
          "output_type": "error",
          "ename": "NameError",
          "evalue": "ignored",
          "traceback": [
            "\u001b[0;31m---------------------------------------------------------------------------\u001b[0m",
            "\u001b[0;31mNameError\u001b[0m                                 Traceback (most recent call last)",
            "\u001b[0;32m<ipython-input-6-cf04aebe01bd>\u001b[0m in \u001b[0;36m<module>\u001b[0;34m()\u001b[0m\n\u001b[0;32m----> 1\u001b[0;31m \u001b[0mnp\u001b[0m\u001b[0;34m.\u001b[0m\u001b[0mfull\u001b[0m\u001b[0;34m(\u001b[0m\u001b[0mshape\u001b[0m\u001b[0;34m,\u001b[0m\u001b[0mfill_value\u001b[0m\u001b[0;34m,\u001b[0m\u001b[0mdtype\u001b[0m\u001b[0;34m=\u001b[0m\u001b[0;32mNone\u001b[0m\u001b[0;34m,\u001b[0m\u001b[0morder\u001b[0m\u001b[0;34m=\u001b[0m\u001b[0;34m'C'\u001b[0m\u001b[0;34m)\u001b[0m\u001b[0;34m\u001b[0m\u001b[0;34m\u001b[0m\u001b[0m\n\u001b[0m",
            "\u001b[0;31mNameError\u001b[0m: name 'shape' is not defined"
          ]
        }
      ]
    },
    {
      "cell_type": "code",
      "source": [
        "a=np.full((3),4,dtype=np.int16)\n",
        "print(a)"
      ],
      "metadata": {
        "colab": {
          "base_uri": "https://localhost:8080/"
        },
        "id": "SuKB7eA5zrXQ",
        "outputId": "914b28d1-bf72-4fbc-c72f-f777b393817b"
      },
      "execution_count": null,
      "outputs": [
        {
          "output_type": "stream",
          "name": "stdout",
          "text": [
            "[4 4 4]\n"
          ]
        }
      ]
    },
    {
      "cell_type": "code",
      "source": [
        "a=np.full((3,4),-1,dtype=float)\n",
        "print(a)"
      ],
      "metadata": {
        "colab": {
          "base_uri": "https://localhost:8080/"
        },
        "id": "Bt40QXAk04Fh",
        "outputId": "0de93285-31da-4864-9036-608fbd416a04"
      },
      "execution_count": null,
      "outputs": [
        {
          "output_type": "stream",
          "name": "stdout",
          "text": [
            "[[-1. -1. -1. -1.]\n",
            " [-1. -1. -1. -1.]\n",
            " [-1. -1. -1. -1.]]\n"
          ]
        }
      ]
    },
    {
      "cell_type": "code",
      "source": [
        "a=np.full((3,4),-1)\n",
        "print(a)"
      ],
      "metadata": {
        "colab": {
          "base_uri": "https://localhost:8080/"
        },
        "id": "W_5BUm1J4CZi",
        "outputId": "4af25048-1eb1-41b1-a382-9f6895164e7f"
      },
      "execution_count": null,
      "outputs": [
        {
          "output_type": "stream",
          "name": "stdout",
          "text": [
            "[[-1 -1 -1 -1]\n",
            " [-1 -1 -1 -1]\n",
            " [-1 -1 -1 -1]]\n"
          ]
        }
      ]
    },
    {
      "cell_type": "code",
      "source": [
        "a=np.full((2,3,4),-1,dtype=np.float)\n",
        "print(a)"
      ],
      "metadata": {
        "colab": {
          "base_uri": "https://localhost:8080/"
        },
        "id": "9uSDLRNH476R",
        "outputId": "5cffe12a-99ef-4cd3-d1d1-97c37408d2ca"
      },
      "execution_count": null,
      "outputs": [
        {
          "output_type": "stream",
          "name": "stdout",
          "text": [
            "[[[-1. -1. -1. -1.]\n",
            "  [-1. -1. -1. -1.]\n",
            "  [-1. -1. -1. -1.]]\n",
            "\n",
            " [[-1. -1. -1. -1.]\n",
            "  [-1. -1. -1. -1.]\n",
            "  [-1. -1. -1. -1.]]]\n"
          ]
        },
        {
          "output_type": "stream",
          "name": "stderr",
          "text": [
            "/usr/local/lib/python3.7/dist-packages/ipykernel_launcher.py:1: DeprecationWarning: `np.float` is a deprecated alias for the builtin `float`. To silence this warning, use `float` by itself. Doing this will not modify any behavior and is safe. If you specifically wanted the numpy scalar type, use `np.float64` here.\n",
            "Deprecated in NumPy 1.20; for more details and guidance: https://numpy.org/devdocs/release/1.20.0-notes.html#deprecations\n",
            "  \"\"\"Entry point for launching an IPython kernel.\n"
          ]
        }
      ]
    },
    {
      "cell_type": "code",
      "source": [
        "a=np.eye(3,dtype=float)\n",
        "print(a)"
      ],
      "metadata": {
        "colab": {
          "base_uri": "https://localhost:8080/"
        },
        "id": "CGmmTawy5H_f",
        "outputId": "75e38b5e-b01a-4cea-d54a-9c70509947b3"
      },
      "execution_count": null,
      "outputs": [
        {
          "output_type": "stream",
          "name": "stdout",
          "text": [
            "[[1. 0. 0.]\n",
            " [0. 1. 0.]\n",
            " [0. 0. 1.]]\n"
          ]
        }
      ]
    },
    {
      "cell_type": "code",
      "source": [
        "a=np.array([(1,2,3),(4,5,6)],dtype=float)\n",
        "b=np.ones_like(a)\n",
        "print(b)"
      ],
      "metadata": {
        "colab": {
          "base_uri": "https://localhost:8080/"
        },
        "id": "KmLlUMW_5dJA",
        "outputId": "e568b3c7-b388-4ae7-9305-c96f65453e6f"
      },
      "execution_count": null,
      "outputs": [
        {
          "output_type": "stream",
          "name": "stdout",
          "text": [
            "[[1. 1. 1.]\n",
            " [1. 1. 1.]]\n"
          ]
        }
      ]
    },
    {
      "cell_type": "code",
      "source": [
        "a=np.array([(1,2,3),(4,5,6)],dtype=float)\n",
        "b=np.zeros_like(a)\n",
        "print(b)"
      ],
      "metadata": {
        "colab": {
          "base_uri": "https://localhost:8080/"
        },
        "id": "BgGoIXop-R0J",
        "outputId": "06b0d5a2-d7d9-4627-e8ae-e89df46ced16"
      },
      "execution_count": null,
      "outputs": [
        {
          "output_type": "stream",
          "name": "stdout",
          "text": [
            "[[0. 0. 0.]\n",
            " [0. 0. 0.]]\n"
          ]
        }
      ]
    },
    {
      "cell_type": "code",
      "source": [
        "a=np.array([(1,2,3),(4,5,6)],dtype=float)\n",
        "b=np.full_like(a,-1,dtype=float)\n",
        "print(b)"
      ],
      "metadata": {
        "id": "2gqBuMiD-gg3",
        "colab": {
          "base_uri": "https://localhost:8080/"
        },
        "outputId": "b9fbb4ba-99c4-4c2f-f485-8d80b6f99d6b"
      },
      "execution_count": 2,
      "outputs": [
        {
          "output_type": "stream",
          "name": "stdout",
          "text": [
            "[[-1. -1. -1.]\n",
            " [-1. -1. -1.]]\n"
          ]
        }
      ]
    },
    {
      "cell_type": "code",
      "source": [
        "arr=np.array([(1,2,3),(4,5,6)],dtype=float)\n",
        "print(arr)"
      ],
      "metadata": {
        "colab": {
          "base_uri": "https://localhost:8080/"
        },
        "id": "q7oVRJTo0fng",
        "outputId": "a7aec3d3-b6e4-4dcc-d37c-7491f96123bd"
      },
      "execution_count": 4,
      "outputs": [
        {
          "output_type": "stream",
          "name": "stdout",
          "text": [
            "[[1. 2. 3.]\n",
            " [4. 5. 6.]]\n"
          ]
        }
      ]
    },
    {
      "cell_type": "code",
      "source": [
        "arr.shape"
      ],
      "metadata": {
        "colab": {
          "base_uri": "https://localhost:8080/"
        },
        "id": "dM0Md5jS0lmS",
        "outputId": "cdab2dc7-074a-4991-fb70-f7a93c73cc3f"
      },
      "execution_count": 5,
      "outputs": [
        {
          "output_type": "execute_result",
          "data": {
            "text/plain": [
              "(2, 3)"
            ]
          },
          "metadata": {},
          "execution_count": 5
        }
      ]
    },
    {
      "cell_type": "code",
      "source": [
        "len(arr)"
      ],
      "metadata": {
        "colab": {
          "base_uri": "https://localhost:8080/"
        },
        "id": "nntRfE9w0qvu",
        "outputId": "5fd663cc-ab30-4894-a8c5-f1e853e68e5b"
      },
      "execution_count": 6,
      "outputs": [
        {
          "output_type": "execute_result",
          "data": {
            "text/plain": [
              "2"
            ]
          },
          "metadata": {},
          "execution_count": 6
        }
      ]
    },
    {
      "cell_type": "code",
      "source": [
        "arr.ndim"
      ],
      "metadata": {
        "colab": {
          "base_uri": "https://localhost:8080/"
        },
        "id": "Tf1pEoJP0s4T",
        "outputId": "001b46ff-1aca-4716-a531-00d3b3dff0de"
      },
      "execution_count": 7,
      "outputs": [
        {
          "output_type": "execute_result",
          "data": {
            "text/plain": [
              "2"
            ]
          },
          "metadata": {},
          "execution_count": 7
        }
      ]
    },
    {
      "cell_type": "code",
      "source": [
        "arr.dtype"
      ],
      "metadata": {
        "colab": {
          "base_uri": "https://localhost:8080/"
        },
        "id": "Wm-p7dBu0vKd",
        "outputId": "b4d90676-139a-48cc-efcf-a8c262b735f1"
      },
      "execution_count": 9,
      "outputs": [
        {
          "output_type": "execute_result",
          "data": {
            "text/plain": [
              "dtype('float64')"
            ]
          },
          "metadata": {},
          "execution_count": 9
        }
      ]
    },
    {
      "cell_type": "code",
      "source": [
        "a=np.linspace(0,1,5)\n",
        "print(a)"
      ],
      "metadata": {
        "colab": {
          "base_uri": "https://localhost:8080/"
        },
        "id": "hkcJMupX0w_i",
        "outputId": "1092fd11-8945-4211-868b-a2d48604de2f"
      },
      "execution_count": 10,
      "outputs": [
        {
          "output_type": "stream",
          "name": "stdout",
          "text": [
            "[0.   0.25 0.5  0.75 1.  ]\n"
          ]
        }
      ]
    },
    {
      "cell_type": "code",
      "source": [
        "a=np.arange(0,10,2,np.float)\n",
        "print(a)"
      ],
      "metadata": {
        "colab": {
          "base_uri": "https://localhost:8080/"
        },
        "id": "aDqTj2ef08aQ",
        "outputId": "d354b998-d824-457f-f800-eb3f247b29b9"
      },
      "execution_count": 11,
      "outputs": [
        {
          "output_type": "stream",
          "name": "stdout",
          "text": [
            "[0. 2. 4. 6. 8.]\n"
          ]
        },
        {
          "output_type": "stream",
          "name": "stderr",
          "text": [
            "/usr/local/lib/python3.7/dist-packages/ipykernel_launcher.py:1: DeprecationWarning: `np.float` is a deprecated alias for the builtin `float`. To silence this warning, use `float` by itself. Doing this will not modify any behavior and is safe. If you specifically wanted the numpy scalar type, use `np.float64` here.\n",
            "Deprecated in NumPy 1.20; for more details and guidance: https://numpy.org/devdocs/release/1.20.0-notes.html#deprecations\n",
            "  \"\"\"Entry point for launching an IPython kernel.\n"
          ]
        }
      ]
    },
    {
      "cell_type": "code",
      "source": [
        "a=np.logspace(0,10,4,np.float)\n",
        "print(a)"
      ],
      "metadata": {
        "colab": {
          "base_uri": "https://localhost:8080/"
        },
        "id": "b2VVy3Wg1HUs",
        "outputId": "a88e221a-e038-475f-dd46-3c4d0c7b312f"
      },
      "execution_count": 13,
      "outputs": [
        {
          "output_type": "stream",
          "name": "stdout",
          "text": [
            "[1.00000000e+00 2.15443469e+03 4.64158883e+06 1.00000000e+10]\n"
          ]
        },
        {
          "output_type": "stream",
          "name": "stderr",
          "text": [
            "/usr/local/lib/python3.7/dist-packages/ipykernel_launcher.py:1: DeprecationWarning: `np.float` is a deprecated alias for the builtin `float`. To silence this warning, use `float` by itself. Doing this will not modify any behavior and is safe. If you specifically wanted the numpy scalar type, use `np.float64` here.\n",
            "Deprecated in NumPy 1.20; for more details and guidance: https://numpy.org/devdocs/release/1.20.0-notes.html#deprecations\n",
            "  \"\"\"Entry point for launching an IPython kernel.\n"
          ]
        }
      ]
    },
    {
      "cell_type": "code",
      "source": [
        "a=np.arange(1,10).reshape(3,3)\n",
        "print(a)"
      ],
      "metadata": {
        "colab": {
          "base_uri": "https://localhost:8080/"
        },
        "id": "qhGNKFgF1RQY",
        "outputId": "45f9a4a8-f8b9-4a4e-a398-5269692b623c"
      },
      "execution_count": 15,
      "outputs": [
        {
          "output_type": "stream",
          "name": "stdout",
          "text": [
            "[[1 2 3]\n",
            " [4 5 6]\n",
            " [7 8 9]]\n"
          ]
        }
      ]
    },
    {
      "cell_type": "code",
      "source": [
        "b=np.arange(9,0,-1).reshape(3,3)\n",
        "print(b)"
      ],
      "metadata": {
        "colab": {
          "base_uri": "https://localhost:8080/"
        },
        "id": "HceXCpJ61fPP",
        "outputId": "a5b9fad1-67f1-4379-d41b-e9d3c41a61f6"
      },
      "execution_count": 17,
      "outputs": [
        {
          "output_type": "stream",
          "name": "stdout",
          "text": [
            "[[9 8 7]\n",
            " [6 5 4]\n",
            " [3 2 1]]\n"
          ]
        }
      ]
    },
    {
      "cell_type": "code",
      "source": [
        "c=np.add(a,b)\n",
        "print(c)"
      ],
      "metadata": {
        "colab": {
          "base_uri": "https://localhost:8080/"
        },
        "id": "Tr59uNvg1war",
        "outputId": "6915e81e-aa3a-47f1-dbd7-d757cf19258b"
      },
      "execution_count": 18,
      "outputs": [
        {
          "output_type": "stream",
          "name": "stdout",
          "text": [
            "[[10 10 10]\n",
            " [10 10 10]\n",
            " [10 10 10]]\n"
          ]
        }
      ]
    },
    {
      "cell_type": "code",
      "source": [
        "d=np.subtract(a,b)\n",
        "print(d)"
      ],
      "metadata": {
        "colab": {
          "base_uri": "https://localhost:8080/"
        },
        "id": "JvrVfZ7H2EUH",
        "outputId": "e600b818-66ab-4202-f45b-d859a6e73042"
      },
      "execution_count": 19,
      "outputs": [
        {
          "output_type": "stream",
          "name": "stdout",
          "text": [
            "[[-8 -6 -4]\n",
            " [-2  0  2]\n",
            " [ 4  6  8]]\n"
          ]
        }
      ]
    },
    {
      "cell_type": "code",
      "source": [
        "c=np.multiply(a,b)\n",
        "print(c)"
      ],
      "metadata": {
        "colab": {
          "base_uri": "https://localhost:8080/"
        },
        "id": "z55aJIrV2Kym",
        "outputId": "49b7c02d-3f3a-4a4a-db51-de42b84707b1"
      },
      "execution_count": 20,
      "outputs": [
        {
          "output_type": "stream",
          "name": "stdout",
          "text": [
            "[[ 9 16 21]\n",
            " [24 25 24]\n",
            " [21 16  9]]\n"
          ]
        }
      ]
    },
    {
      "cell_type": "code",
      "source": [
        "d=np.divide(a,b)\n",
        "print(d)"
      ],
      "metadata": {
        "colab": {
          "base_uri": "https://localhost:8080/"
        },
        "id": "VJoAU_tb2WPb",
        "outputId": "d7c9f751-559f-409b-e800-5285be8cc9d0"
      },
      "execution_count": 21,
      "outputs": [
        {
          "output_type": "stream",
          "name": "stdout",
          "text": [
            "[[0.11111111 0.25       0.42857143]\n",
            " [0.66666667 1.         1.5       ]\n",
            " [2.33333333 4.         9.        ]]\n"
          ]
        }
      ]
    },
    {
      "cell_type": "code",
      "source": [
        "c=np.dot(a,b)\n",
        "print(c)"
      ],
      "metadata": {
        "colab": {
          "base_uri": "https://localhost:8080/"
        },
        "id": "zIIy9UQG2bZR",
        "outputId": "b58806a1-efb4-4b0a-c1db-6bafeec64834"
      },
      "execution_count": 22,
      "outputs": [
        {
          "output_type": "stream",
          "name": "stdout",
          "text": [
            "[[ 30  24  18]\n",
            " [ 84  69  54]\n",
            " [138 114  90]]\n"
          ]
        }
      ]
    },
    {
      "cell_type": "code",
      "source": [
        "import matplotlib.pyplot as plt"
      ],
      "metadata": {
        "id": "LuEVZ8692h67"
      },
      "execution_count": 23,
      "outputs": []
    },
    {
      "cell_type": "code",
      "source": [
        "plt.plot([1,2,3],[10,20,-10])\n",
        "plt.show()"
      ],
      "metadata": {
        "colab": {
          "base_uri": "https://localhost:8080/",
          "height": 265
        },
        "id": "okayqMZr3Cmj",
        "outputId": "4596b93b-c87d-4af3-dec7-23b97566e3fb"
      },
      "execution_count": 24,
      "outputs": [
        {
          "output_type": "display_data",
          "data": {
            "text/plain": [
              "<Figure size 432x288 with 1 Axes>"
            ],
            "image/png": "[encoded data removed]"
          },
          "metadata": {
            "needs_background": "light"
          }
        }
      ]
    },
    {
      "cell_type": "code",
      "source": [
        "plt.plot([10,20,-10])\n",
        "plt.show()"
      ],
      "metadata": {
        "colab": {
          "base_uri": "https://localhost:8080/",
          "height": 265
        },
        "id": "SXzvUwpK3O8r",
        "outputId": "1f0d60a6-5ce0-4003-a381-8b252180c568"
      },
      "execution_count": 25,
      "outputs": [
        {
          "output_type": "display_data",
          "data": {
            "text/plain": [
              "<Figure size 432x288 with 1 Axes>"
            ],
            "image/png": "[encoded data removed]"
          },
          "metadata": {
            "needs_background": "light"
          }
        }
      ]
    },
    {
      "cell_type": "code",
      "source": [
        "plt.plot([4,6,10,11],[10,20,25,30])\n",
        "plt.xlabel('x-axis')\n",
        "plt.ylabel('y-axis')\n",
        "plt.title('Data')\n",
        "plt.show()"
      ],
      "metadata": {
        "colab": {
          "base_uri": "https://localhost:8080/",
          "height": 295
        },
        "id": "E8ZhjkBv3ofS",
        "outputId": "52c8b17b-097c-4f28-ffc1-1586a9a84d6c"
      },
      "execution_count": 27,
      "outputs": [
        {
          "output_type": "display_data",
          "data": {
            "text/plain": [
              "<Figure size 432x288 with 1 Axes>"
            ],
            "image/png": "[encoded data removed]"
          },
          "metadata": {
            "needs_background": "light"
          }
        }
      ]
    },
    {
      "cell_type": "code",
      "source": [
        "x=np.linspace(0,2*np.pi,100)"
      ],
      "metadata": {
        "id": "-d8VYoQL45JH"
      },
      "execution_count": 28,
      "outputs": []
    },
    {
      "cell_type": "code",
      "source": [
        "y=np.sin(x)"
      ],
      "metadata": {
        "id": "X_MlEtOk5GbX"
      },
      "execution_count": 29,
      "outputs": []
    },
    {
      "cell_type": "code",
      "source": [
        "plt.plot(x,y)\n",
        "plt.xlabel('x-axis')\n",
        "plt.ylabel('y-axis')\n",
        "plt.title('sin(x)')\n",
        "plt.show()"
      ],
      "metadata": {
        "colab": {
          "base_uri": "https://localhost:8080/",
          "height": 295
        },
        "id": "_69B8Q4B5RYH",
        "outputId": "44f6f415-89e0-4b6d-fef1-f63fd81555b5"
      },
      "execution_count": 30,
      "outputs": [
        {
          "output_type": "display_data",
          "data": {
            "text/plain": [
              "<Figure size 432x288 with 1 Axes>"
            ],
            "image/png": "[encoded data removed]"
          },
          "metadata": {
            "needs_background": "light"
          }
        }
      ]
    },
    {
      "cell_type": "code",
      "source": [
        "y=np.sin(x)+np.cos(x)+10"
      ],
      "metadata": {
        "id": "9I6lzltx5sMf"
      },
      "execution_count": 31,
      "outputs": []
    },
    {
      "cell_type": "code",
      "source": [
        "plt.plot(x,y)\n",
        "plt.xlabel('x-axis')\n",
        "plt.ylabel('y-axis')\n",
        "plt.title('sin(x)+cos(x)+10')\n",
        "plt.show()"
      ],
      "metadata": {
        "colab": {
          "base_uri": "https://localhost:8080/",
          "height": 295
        },
        "id": "KjzedmyF54KC",
        "outputId": "178316b5-9ebb-4682-8f9e-dec89c0bfe77"
      },
      "execution_count": 32,
      "outputs": [
        {
          "output_type": "display_data",
          "data": {
            "text/plain": [
              "<Figure size 432x288 with 1 Axes>"
            ],
            "image/png": "[encoded data removed]"
          },
          "metadata": {
            "needs_background": "light"
          }
        }
      ]
    },
    {
      "cell_type": "code",
      "source": [
        "y1=np.sin(x)"
      ],
      "metadata": {
        "id": "2CL4qMc96AxB"
      },
      "execution_count": 33,
      "outputs": []
    },
    {
      "cell_type": "code",
      "source": [
        "y2=np.sin(x)+np.cos(x)"
      ],
      "metadata": {
        "id": "Pt0-_Cem6LQS"
      },
      "execution_count": 34,
      "outputs": []
    },
    {
      "cell_type": "code",
      "source": [
        "plt.plot(x,y1,x,y2)\n",
        "plt.xlabel('x-axis')\n",
        "plt.ylabel('y-axis')\n",
        "plt.title('Two functions')\n",
        "plt.legend(['sin(x)','sin(x)+cos(x)'])\n",
        "plt.show()"
      ],
      "metadata": {
        "colab": {
          "base_uri": "https://localhost:8080/",
          "height": 295
        },
        "id": "1QtJihNd6Pnq",
        "outputId": "277f45ac-f250-4efa-ea86-ea1c78aa5094"
      },
      "execution_count": 35,
      "outputs": [
        {
          "output_type": "display_data",
          "data": {
            "text/plain": [
              "<Figure size 432x288 with 1 Axes>"
            ],
            "image/png": "[encoded data removed]"
          },
          "metadata": {
            "needs_background": "light"
          }
        }
      ]
    },
    {
      "cell_type": "code",
      "source": [
        "y1=np.sin(x)\n",
        "y2=np.sin(x)+np.cos(x)\n",
        "plt.plot(x,y1,x,y2)\n",
        "plt.xticks([0,np.pi,2*np.pi])\n",
        "plt.yticks([-1,0,+1])\n",
        "plt.xlabel('x-axis')\n",
        "plt.ylabel('y-axis')\n",
        "plt.title('Two functions')\n",
        "plt.legend(['sin(x)','sin(x)+cos(x)'])\n",
        "plt.show()"
      ],
      "metadata": {
        "colab": {
          "base_uri": "https://localhost:8080/",
          "height": 295
        },
        "id": "UMADFJ9G7Ocj",
        "outputId": "fc1a05a4-ebd9-4ed9-bd56-fe2d4c411b07"
      },
      "execution_count": 38,
      "outputs": [
        {
          "output_type": "display_data",
          "data": {
            "text/plain": [
              "<Figure size 432x288 with 1 Axes>"
            ],
            "image/png": "[encoded data removed]"
          },
          "metadata": {
            "needs_background": "light"
          }
        }
      ]
    },
    {
      "cell_type": "code",
      "source": [
        "x=np.linspace(0,2*np.pi,10)\n",
        "y1=np.sin(x)\n",
        "y2=np.sin(x)+np.cos(x)\n",
        "\n",
        "plt.plot(x,y1,'ro--',x,y2,'ks-')\n",
        "\n",
        "plt.xticks([0,np.pi,2*np.pi])\n",
        "plt.yticks([-1,0,+1])\n",
        "\n",
        "plt.xlabel('x-axis')\n",
        "plt.ylabel('y-axis')\n",
        "plt.title('Two functions')\n",
        "plt.legend(['sin(x)','sin(x)+cos(x)'])\n",
        "\n",
        "plt.show()"
      ],
      "metadata": {
        "colab": {
          "base_uri": "https://localhost:8080/",
          "height": 295
        },
        "id": "qoLR79yA7_Mx",
        "outputId": "be11cb00-dfe5-479b-a4ad-6f1afa58e20d"
      },
      "execution_count": 52,
      "outputs": [
        {
          "output_type": "display_data",
          "data": {
            "text/plain": [
              "<Figure size 432x288 with 1 Axes>"
            ],
            "image/png": "[encoded data removed]"
          },
          "metadata": {
            "needs_background": "light"
          }
        }
      ]
    },
    {
      "cell_type": "code",
      "source": [
        "x=np.linspace(1,6,6)\n",
        "y=np.array([10,8,4,9,5,2])"
      ],
      "metadata": {
        "id": "cu0lPAp_8Wm0"
      },
      "execution_count": 53,
      "outputs": []
    },
    {
      "cell_type": "code",
      "source": [
        "plt.bar(x,y)\n",
        "plt.xlabel('x-axis')\n",
        "plt.ylabel('y-axis')\n",
        "plt.title('Bar Example')\n",
        "plt.show()"
      ],
      "metadata": {
        "colab": {
          "base_uri": "https://localhost:8080/",
          "height": 295
        },
        "id": "u9uQXtuT-QUL",
        "outputId": "051b6d5a-54af-461d-e9dd-e52d267d3764"
      },
      "execution_count": 54,
      "outputs": [
        {
          "output_type": "display_data",
          "data": {
            "text/plain": [
              "<Figure size 432x288 with 1 Axes>"
            ],
            "image/png": "[encoded data removed]"
          },
          "metadata": {
            "needs_background": "light"
          }
        }
      ]
    },
    {
      "cell_type": "code",
      "source": [
        "import math"
      ],
      "metadata": {
        "id": "3FeL7TBb-lLM"
      },
      "execution_count": 55,
      "outputs": []
    },
    {
      "cell_type": "code",
      "source": [
        "math.factorial(4)"
      ],
      "metadata": {
        "colab": {
          "base_uri": "https://localhost:8080/"
        },
        "id": "PmTRE2SW-154",
        "outputId": "cbe8c77b-3d7a-4c7e-b343-8b5001317005"
      },
      "execution_count": 57,
      "outputs": [
        {
          "output_type": "execute_result",
          "data": {
            "text/plain": [
              "24"
            ]
          },
          "metadata": {},
          "execution_count": 57
        }
      ]
    },
    {
      "cell_type": "code",
      "source": [
        "math.pow(2,3)"
      ],
      "metadata": {
        "colab": {
          "base_uri": "https://localhost:8080/"
        },
        "id": "y7qyYrAR-8fq",
        "outputId": "bbbc20c3-df97-42d0-fbe2-948a416d73f4"
      },
      "execution_count": 58,
      "outputs": [
        {
          "output_type": "execute_result",
          "data": {
            "text/plain": [
              "8.0"
            ]
          },
          "metadata": {},
          "execution_count": 58
        }
      ]
    },
    {
      "cell_type": "code",
      "source": [
        "math.pow(3,2)"
      ],
      "metadata": {
        "colab": {
          "base_uri": "https://localhost:8080/"
        },
        "id": "odcZZp0O_DJw",
        "outputId": "34053c47-dd0e-434a-dca9-2a8b499246d4"
      },
      "execution_count": 59,
      "outputs": [
        {
          "output_type": "execute_result",
          "data": {
            "text/plain": [
              "9.0"
            ]
          },
          "metadata": {},
          "execution_count": 59
        }
      ]
    },
    {
      "cell_type": "code",
      "source": [
        "math.log(2)"
      ],
      "metadata": {
        "colab": {
          "base_uri": "https://localhost:8080/"
        },
        "id": "PAB5E0DZ_GZB",
        "outputId": "11a708d1-6230-4140-a588-7b8bcb35e2d3"
      },
      "execution_count": 60,
      "outputs": [
        {
          "output_type": "execute_result",
          "data": {
            "text/plain": [
              "0.6931471805599453"
            ]
          },
          "metadata": {},
          "execution_count": 60
        }
      ]
    },
    {
      "cell_type": "code",
      "source": [
        "math.log(4,2)"
      ],
      "metadata": {
        "colab": {
          "base_uri": "https://localhost:8080/"
        },
        "id": "gi9aNMq9_I-3",
        "outputId": "54441fe8-0597-4459-c7a9-58f77e3de394"
      },
      "execution_count": 61,
      "outputs": [
        {
          "output_type": "execute_result",
          "data": {
            "text/plain": [
              "2.0"
            ]
          },
          "metadata": {},
          "execution_count": 61
        }
      ]
    },
    {
      "cell_type": "code",
      "source": [
        "math.log(8,2)"
      ],
      "metadata": {
        "colab": {
          "base_uri": "https://localhost:8080/"
        },
        "id": "MC2dGs1l_MVV",
        "outputId": "6967c924-3d6c-4cd0-d154-a7ff7d860991"
      },
      "execution_count": 62,
      "outputs": [
        {
          "output_type": "execute_result",
          "data": {
            "text/plain": [
              "3.0"
            ]
          },
          "metadata": {},
          "execution_count": 62
        }
      ]
    },
    {
      "cell_type": "code",
      "source": [
        "math.log(10)"
      ],
      "metadata": {
        "colab": {
          "base_uri": "https://localhost:8080/"
        },
        "id": "_e_c88Sk_SX_",
        "outputId": "f74e4adc-a834-4878-a5f3-4a1aad405426"
      },
      "execution_count": 63,
      "outputs": [
        {
          "output_type": "execute_result",
          "data": {
            "text/plain": [
              "2.302585092994046"
            ]
          },
          "metadata": {},
          "execution_count": 63
        }
      ]
    },
    {
      "cell_type": "code",
      "source": [
        "math.log10(100)"
      ],
      "metadata": {
        "colab": {
          "base_uri": "https://localhost:8080/"
        },
        "id": "9vBkCn1e_XpH",
        "outputId": "f5a80989-ad24-4246-811e-66f5b5dec627"
      },
      "execution_count": 64,
      "outputs": [
        {
          "output_type": "execute_result",
          "data": {
            "text/plain": [
              "2.0"
            ]
          },
          "metadata": {},
          "execution_count": 64
        }
      ]
    },
    {
      "cell_type": "code",
      "source": [
        "math.sin(60)"
      ],
      "metadata": {
        "colab": {
          "base_uri": "https://localhost:8080/"
        },
        "id": "fGk9Iilu_a4R",
        "outputId": "f4bf5b96-e297-4525-895e-e341ebddfd8d"
      },
      "execution_count": 65,
      "outputs": [
        {
          "output_type": "execute_result",
          "data": {
            "text/plain": [
              "-0.3048106211022167"
            ]
          },
          "metadata": {},
          "execution_count": 65
        }
      ]
    },
    {
      "cell_type": "code",
      "source": [
        "math.degrees(120)"
      ],
      "metadata": {
        "colab": {
          "base_uri": "https://localhost:8080/"
        },
        "id": "2nmNN3ZM_jOD",
        "outputId": "fa247a16-001d-4176-febd-b315e5091714"
      },
      "execution_count": 78,
      "outputs": [
        {
          "output_type": "execute_result",
          "data": {
            "text/plain": [
              "6875.493541569878"
            ]
          },
          "metadata": {},
          "execution_count": 78
        }
      ]
    },
    {
      "cell_type": "code",
      "source": [
        "math.radians(180)"
      ],
      "metadata": {
        "colab": {
          "base_uri": "https://localhost:8080/"
        },
        "id": "KDwhaYlE_l-9",
        "outputId": "83446205-c49a-4688-e8c4-3b08e44e120f"
      },
      "execution_count": 73,
      "outputs": [
        {
          "output_type": "execute_result",
          "data": {
            "text/plain": [
              "3.141592653589793"
            ]
          },
          "metadata": {},
          "execution_count": 73
        }
      ]
    },
    {
      "cell_type": "code",
      "source": [
        "def func(n):\n",
        "    lv=n+1\n",
        "    print(lv)\n",
        "func(12)"
      ],
      "metadata": {
        "colab": {
          "base_uri": "https://localhost:8080/"
        },
        "id": "wNyyv-IE_2vu",
        "outputId": "e557e0f4-84d9-4994-99db-94c1e32f1b20"
      },
      "execution_count": 81,
      "outputs": [
        {
          "output_type": "stream",
          "name": "stdout",
          "text": [
            "13\n"
          ]
        }
      ]
    },
    {
      "cell_type": "code",
      "source": [
        "print(lv)"
      ],
      "metadata": {
        "colab": {
          "base_uri": "https://localhost:8080/",
          "height": 174
        },
        "id": "FDGdspjdBnOg",
        "outputId": "2cc49a90-4720-4735-e3bf-15b74ee86cf3"
      },
      "execution_count": 82,
      "outputs": [
        {
          "output_type": "error",
          "ename": "NameError",
          "evalue": "ignored",
          "traceback": [
            "\u001b[0;31m---------------------------------------------------------------------------\u001b[0m",
            "\u001b[0;31mNameError\u001b[0m                                 Traceback (most recent call last)",
            "\u001b[0;32m<ipython-input-82-c2619d26e931>\u001b[0m in \u001b[0;36m<module>\u001b[0;34m()\u001b[0m\n\u001b[0;32m----> 1\u001b[0;31m \u001b[0mprint\u001b[0m\u001b[0;34m(\u001b[0m\u001b[0mlv\u001b[0m\u001b[0;34m)\u001b[0m\u001b[0;34m\u001b[0m\u001b[0;34m\u001b[0m\u001b[0m\n\u001b[0m",
            "\u001b[0;31mNameError\u001b[0m: name 'lv' is not defined"
          ]
        }
      ]
    },
    {
      "cell_type": "code",
      "source": [
        "n=10"
      ],
      "metadata": {
        "id": "oW9A6vMRB0UP"
      },
      "execution_count": 83,
      "outputs": []
    },
    {
      "cell_type": "code",
      "source": [
        "def func2():\n",
        "    lv=n+1\n",
        "    print(lv)\n",
        "func2()"
      ],
      "metadata": {
        "colab": {
          "base_uri": "https://localhost:8080/"
        },
        "id": "T4bTfrDSB5NZ",
        "outputId": "5d12b503-8223-4ffb-88d1-29df6290eb60"
      },
      "execution_count": 84,
      "outputs": [
        {
          "output_type": "stream",
          "name": "stdout",
          "text": [
            "11\n"
          ]
        }
      ]
    },
    {
      "cell_type": "code",
      "source": [
        "print(n)"
      ],
      "metadata": {
        "colab": {
          "base_uri": "https://localhost:8080/"
        },
        "id": "RUqTuHPQCE3U",
        "outputId": "601daccd-8766-4a0c-a73f-d21f1878794f"
      },
      "execution_count": 85,
      "outputs": [
        {
          "output_type": "stream",
          "name": "stdout",
          "text": [
            "10\n"
          ]
        }
      ]
    },
    {
      "cell_type": "code",
      "source": [
        "n=10"
      ],
      "metadata": {
        "id": "E1AEtG9YCMG7"
      },
      "execution_count": 86,
      "outputs": []
    },
    {
      "cell_type": "code",
      "source": [
        "def func2():\n",
        "    global n\n",
        "    n=0\n",
        "    lv=n+1\n",
        "    print(lv)\n",
        "func2()"
      ],
      "metadata": {
        "colab": {
          "base_uri": "https://localhost:8080/"
        },
        "id": "M028kIntCPmu",
        "outputId": "63a3535d-71b8-44fe-a2ba-0aa0cf056ed2"
      },
      "execution_count": 87,
      "outputs": [
        {
          "output_type": "stream",
          "name": "stdout",
          "text": [
            "1\n"
          ]
        }
      ]
    },
    {
      "cell_type": "code",
      "source": [
        "print(n)"
      ],
      "metadata": {
        "colab": {
          "base_uri": "https://localhost:8080/"
        },
        "id": "Rne9lCPMCaY2",
        "outputId": "6d3744a0-85ec-4edc-a4e4-fc22f104b6d9"
      },
      "execution_count": 88,
      "outputs": [
        {
          "output_type": "stream",
          "name": "stdout",
          "text": [
            "0\n"
          ]
        }
      ]
    },
    {
      "cell_type": "code",
      "source": [
        "fa_age=39\n",
        "def up_fa_age():\n",
        "    global fa_age\n",
        "    fa_age += 1"
      ],
      "metadata": {
        "id": "cX1ws1hFCbpK"
      },
      "execution_count": 89,
      "outputs": []
    },
    {
      "cell_type": "code",
      "source": [
        "def get_fa_age():\n",
        "    return fa_age"
      ],
      "metadata": {
        "id": "o-618OuXFF0x"
      },
      "execution_count": 90,
      "outputs": []
    },
    {
      "cell_type": "code",
      "source": [
        "print(\"2019년\")\n",
        "print(\"아빠:\",get_fa_age())\n",
        "print(\"2020년\")\n",
        "up_fa_age()\n",
        "print(\"아빠:\",get_fa_age())"
      ],
      "metadata": {
        "colab": {
          "base_uri": "https://localhost:8080/"
        },
        "id": "uoyw4_r9FOj3",
        "outputId": "da31e067-62c3-415e-f26a-233dffc67820"
      },
      "execution_count": 91,
      "outputs": [
        {
          "output_type": "stream",
          "name": "stdout",
          "text": [
            "2019년\n",
            "아빠: 39\n",
            "2020년\n",
            "아빠: 40\n"
          ]
        }
      ]
    },
    {
      "cell_type": "code",
      "source": [
        "br_age=25\n",
        "def up_br_age():\n",
        "    global br_age\n",
        "    br_age += 1"
      ],
      "metadata": {
        "id": "J1x1n6QAFrsi"
      },
      "execution_count": 92,
      "outputs": []
    },
    {
      "cell_type": "code",
      "source": [
        "def get_br_age():\n",
        "    return br_age"
      ],
      "metadata": {
        "id": "ongig4ZXF5ck"
      },
      "execution_count": 93,
      "outputs": []
    },
    {
      "cell_type": "code",
      "source": [
        "print(\"2019년\")\n",
        "print(\"형:\",get_br_age())\n",
        "print(\"2020년\")\n",
        "up_br_age()\n",
        "print(\"형:\",get_br_age())"
      ],
      "metadata": {
        "colab": {
          "base_uri": "https://localhost:8080/"
        },
        "id": "amDSJoD0F8us",
        "outputId": "bebce8db-325e-4f47-cca6-0d121f207928"
      },
      "execution_count": 94,
      "outputs": [
        {
          "output_type": "stream",
          "name": "stdout",
          "text": [
            "2019년\n",
            "형: 25\n",
            "2020년\n",
            "형: 26\n"
          ]
        }
      ]
    },
    {
      "cell_type": "code",
      "source": [
        "class Ageinfo:\n",
        "    def up_age(self):\n",
        "      self.age +=1   \n",
        "    def get_age(self):\n",
        "        return self.age"
      ],
      "metadata": {
        "id": "APSrCtXiGD2L"
      },
      "execution_count": 118,
      "outputs": []
    },
    {
      "cell_type": "code",
      "source": [
        "fa=Ageinfo()\n",
        "fa.age=39\n",
        "\n",
        "print(\"아빠의 나이:\", fa.get_age())\n",
        "\n",
        "print(\"1년 뒤...\")\n",
        "fa.up_age()\n",
        "print(\"아빠의 나이:\", fa.get_age())"
      ],
      "metadata": {
        "colab": {
          "base_uri": "https://localhost:8080/"
        },
        "id": "qpfZ9QuVIf6i",
        "outputId": "6f5c16d6-d837-4951-d335-dc9038ab1d33"
      },
      "execution_count": 119,
      "outputs": [
        {
          "output_type": "stream",
          "name": "stdout",
          "text": [
            "아빠의 나이: 39\n",
            "1년 뒤...\n",
            "아빠의 나이: 40\n"
          ]
        }
      ]
    },
    {
      "cell_type": "code",
      "source": [
        "fa=Ageinfo()\n",
        "mo=Ageinfo()\n",
        "me=Ageinfo()\n",
        "\n",
        "fa.age=50\n",
        "mo.age=49\n",
        "me.age=30\n",
        "\n",
        "print(\"아빠의 나이:\",fa.get_age())\n",
        "print(\"엄마의 나이:\",mo.get_age())\n",
        "print(\"누나의 나이:\",me.get_age())\n",
        "\n",
        "print(\"1년 뒤...\")\n",
        "fa.up_age()\n",
        "mo.up_age()\n",
        "me.up_age()\n",
        "print(\"아빠의 나이:\",fa.get_age())\n",
        "print(\"엄마의 나이:\",mo.get_age())\n",
        "print(\"누나의 나이:\",me.get_age())"
      ],
      "metadata": {
        "colab": {
          "base_uri": "https://localhost:8080/"
        },
        "id": "YsWXLIgJJ9ek",
        "outputId": "2c661e50-299e-4816-a3ae-bdca76b28625"
      },
      "execution_count": 120,
      "outputs": [
        {
          "output_type": "stream",
          "name": "stdout",
          "text": [
            "아빠의 나이: 50\n",
            "엄마의 나이: 49\n",
            "누나의 나이: 30\n",
            "1년 뒤...\n",
            "아빠의 나이: 51\n",
            "엄마의 나이: 50\n",
            "누나의 나이: 31\n"
          ]
        }
      ]
    },
    {
      "cell_type": "code",
      "source": [
        "import math\n",
        "import matplotlib.pyplot as plt\n",
        "class sin_graph:\n",
        "   def generate_x_y(self):\n",
        "      self.x=[]\n",
        "      self.y=[]\n",
        "      self.dx=(self.end-self.st)/(self.n-1)\n",
        "      for i in range(self.n):\n",
        "         x_=self.st + self.dx*i\n",
        "         self.x.append(x_)\n",
        "         self.y.append(math.sin(x_))\n",
        "   def plot(self):\n",
        "       plt.plot(self.x,self.y)\n",
        "       plt.show()"
      ],
      "metadata": {
        "id": "D06xP3rmOcCQ"
      },
      "execution_count": 135,
      "outputs": []
    },
    {
      "cell_type": "code",
      "source": [
        "g1=sin_graph()\n",
        "g1.st=0\n",
        "g1.end=2*math.pi\n",
        "g1.n=10\n",
        "\n",
        "g1.generate_x_y()\n",
        "g1.plot()"
      ],
      "metadata": {
        "colab": {
          "base_uri": "https://localhost:8080/",
          "height": 265
        },
        "id": "WRw_HWrpPuX_",
        "outputId": "9f6f8bc0-f92b-4153-d352-e8276af88700"
      },
      "execution_count": 138,
      "outputs": [
        {
          "output_type": "display_data",
          "data": {
            "text/plain": [
              "<Figure size 432x288 with 1 Axes>"
            ],
            "image/png": "[encoded data removed]"
          },
          "metadata": {
            "needs_background": "light"
          }
        }
      ]
    },
    {
      "cell_type": "code",
      "source": [
        "class sin_graph:\n",
        "   def setting(self,st,ed,n):\n",
        "       self.st=st\n",
        "       self.ed=ed\n",
        "       self.n=n\n",
        "   def generate_x_y(self):\n",
        "      self.x=[]\n",
        "      self.y=[]\n",
        "      self.dx=(self.ed-self.st)/(self.n-1)\n",
        "      for i in range(self.n):\n",
        "         x_=self.st + self.dx*i\n",
        "         self.x.append(x_)\n",
        "         self.y.append(math.sin(x_))\n",
        "   def plot(self):\n",
        "       plt.plot(self.x,self.y)\n",
        "       plt.show()"
      ],
      "metadata": {
        "id": "6YNG6MePSXH9"
      },
      "execution_count": 140,
      "outputs": []
    },
    {
      "cell_type": "code",
      "source": [
        "g1=sin_graph()\n",
        "g1.setting(0,2*math.pi,100)\n",
        "g1.generate_x_y()\n",
        "g1.plot()"
      ],
      "metadata": {
        "colab": {
          "base_uri": "https://localhost:8080/",
          "height": 265
        },
        "id": "dVqldbzUTqr8",
        "outputId": "d887af8e-f7ad-45a7-92de-3a061499b558"
      },
      "execution_count": 141,
      "outputs": [
        {
          "output_type": "display_data",
          "data": {
            "text/plain": [
              "<Figure size 432x288 with 1 Axes>"
            ],
            "image/png": "[encoded data removed]"
          },
          "metadata": {
            "needs_background": "light"
          }
        }
      ]
    },
    {
      "cell_type": "code",
      "source": [
        "g2=sin_graph()\n",
        "g2.setting(0,4*math.pi,100)\n",
        "g2.generate_x_y()\n",
        "g2.plot()"
      ],
      "metadata": {
        "colab": {
          "base_uri": "https://localhost:8080/",
          "height": 265
        },
        "id": "CbuFRmG6UBVW",
        "outputId": "1ca33d27-2a28-4491-83a3-bff002858c09"
      },
      "execution_count": 142,
      "outputs": [
        {
          "output_type": "display_data",
          "data": {
            "text/plain": [
              "<Figure size 432x288 with 1 Axes>"
            ],
            "image/png": "[encoded data removed]"
          },
          "metadata": {
            "needs_background": "light"
          }
        }
      ]
    },
    {
      "cell_type": "code",
      "source": [
        "class const:\n",
        "    def __init__(self):\n",
        "        print(\"new~\")\n",
        "o1=const()\n",
        "o2=const()"
      ],
      "metadata": {
        "colab": {
          "base_uri": "https://localhost:8080/"
        },
        "id": "EO-rCAKlUL4p",
        "outputId": "b7db1f95-3432-4efb-eb2c-8f5237e7a979"
      },
      "execution_count": 143,
      "outputs": [
        {
          "output_type": "stream",
          "name": "stdout",
          "text": [
            "new~\n",
            "new~\n"
          ]
        }
      ]
    },
    {
      "cell_type": "code",
      "source": [
        "class const:\n",
        "    def __init__(self,n1,n2):\n",
        "        self.n1=n1\n",
        "        self.n2=n2\n",
        "    def show_data(self):\n",
        "       print(self.n1,self.n2)\n",
        "o1=const(1,2)\n",
        "o2=const(3,4)"
      ],
      "metadata": {
        "id": "0yJLqkXWUqUV"
      },
      "execution_count": 144,
      "outputs": []
    },
    {
      "cell_type": "code",
      "source": [
        "o1.show_data()\n",
        "o2.show_data()"
      ],
      "metadata": {
        "colab": {
          "base_uri": "https://localhost:8080/"
        },
        "id": "YjUTMoM8VIgU",
        "outputId": "82e7eb51-8862-42d3-dccc-18b6bd3d65f5"
      },
      "execution_count": 145,
      "outputs": [
        {
          "output_type": "stream",
          "name": "stdout",
          "text": [
            "1 2\n",
            "3 4\n"
          ]
        }
      ]
    },
    {
      "cell_type": "code",
      "source": [
        " fn=\"I_have_a_dream.txt\"\n",
        " class text_static:\n",
        "   def processLine(self,line,wordCounts):\n",
        "      line=self.replacePunctuations(line)\n",
        "      words=line.split()\n",
        "      for word in words:\n",
        "        if word in wordCounts:\n",
        "            wordCounts[word] +=1\n",
        "        else:\n",
        "           wordCounts[word]=1\n",
        "   def replacePunctuations(self,line):\n",
        "     for ch in line:\n",
        "        if ch in \".,;:\":\n",
        "            line=line.replace(ch,\"\")\n",
        "   \n",
        "     return line\n",
        "   def wordCount(self,filename):\n",
        "    f=open(\"I_have_a_dream.txt\",\"r\")\n",
        "    lines=f.readlines()\n",
        "    wordCounts={}\n",
        "    for line in lines:\n",
        "      self.processLine(line.lower(),wordCounts)\n",
        "   \n",
        "      return wordCounts\n",
        "   def arrange_pairs(self,wordCounts):\n",
        "     pairs=list(wordCounts.items())\n",
        "     items=[[x,y]for(x,y)in pairs]\n",
        "     items.sort()\n",
        "     items={x:y for [y,x]in items}\n",
        "     return items "
      ],
      "metadata": {
        "id": "6s2NreDAVS8S"
      },
      "execution_count": 171,
      "outputs": []
    },
    {
      "cell_type": "code",
      "source": [
        "  T=text_static()"
      ],
      "metadata": {
        "id": "xMnMM-2iX5jQ"
      },
      "execution_count": 172,
      "outputs": []
    },
    {
      "cell_type": "code",
      "source": [
        "  wordCounts=T.wordCount(fn)"
      ],
      "metadata": {
        "id": "KXZNfBG3eVae"
      },
      "execution_count": 173,
      "outputs": []
    },
    {
      "cell_type": "code",
      "source": [
        "  wordCounts=T.arrange_pairs(wordCounts)"
      ],
      "metadata": {
        "id": "DhWoWGn1ea53"
      },
      "execution_count": 174,
      "outputs": []
    },
    {
      "cell_type": "code",
      "source": [
        "wordCounts"
      ],
      "metadata": {
        "colab": {
          "base_uri": "https://localhost:8080/"
        },
        "id": "0B5rn3fLgIRh",
        "outputId": "bf40d8e4-aec9-4d3c-f02b-e1a6cfaa657a"
      },
      "execution_count": 177,
      "outputs": [
        {
          "output_type": "execute_result",
          "data": {
            "text/plain": [
              "{1: 'you', 2: 'the', 3: 'in'}"
            ]
          },
          "metadata": {},
          "execution_count": 177
        }
      ]
    }
  ]
}